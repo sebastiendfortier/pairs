{
 "cells": [
  {
   "cell_type": "code",
   "execution_count": 13,
   "metadata": {},
   "outputs": [
    {
     "name": "stdout",
     "output_type": "stream",
     "text": [
      "Number of records for 1998 : 19.2M\n",
      "Number of records for 1999 : 13.1M\n",
      "Number of records for 2000 : 13.5M\n",
      "Number of records for 2001 : 37.9M\n",
      "Number of records for 2002 : 45.3M\n",
      "Number of records for 2003 : 56.6M\n",
      "Number of records for 2004 : 60.1M\n",
      "Number of records for 2005 : 63.9M\n",
      "Number of records for 2006 : 80.6M\n",
      "Number of records for 2007 : 152.5M\n",
      "Number of records for 2008 : 160.0M\n",
      "Number of records for 2009 : 165.7M\n",
      "Number of records for 2010 : 119.9M\n",
      "Number of records for 2011 : 96.8M\n",
      "Number of records for 2012 : 82.7M\n",
      "Number of records for 2013 : 131.8M\n",
      "Number of records for 2014 : 163.1M\n",
      "Number of records for 2015 : 185.0M\n",
      "Number of records for 2016 : 248.7M\n",
      "Number of records for 2017 : 192.3M\n",
      "Number of records for 2018 : 239.6M\n",
      "Number of records for 2019 : 250.4M\n",
      "Number of records for 2020 : 184.0M\n",
      "Number of records for 2021 : 192.5M\n",
      "Number of records for 2022 : 15.3M\n"
     ]
    }
   ],
   "source": [
    "import pandas as pd\n",
    "import glob\n",
    "import os\n",
    "from pathlib import Path\n",
    "path = Path('/fs/site6/eccc/cmd/w/sbf000/lightning_data')\n",
    "\n",
    "for year in range(1998,2023):\n",
    "    files = glob.glob(str(path / f'{year}*.txt.gz'))\n",
    "\n",
    "    chunksize = 10 ** 6\n",
    "    nb_lines = 0\n",
    "    for f in files:\n",
    "        with pd.read_csv(f, chunksize=chunksize, header=None, sep=' ') as reader:\n",
    "            for chunk in reader:\n",
    "                nb_lines = nb_lines + len(chunk.index)\n",
    "\n",
    "    print(f'Number of records for {year} : {(nb_lines / 1000000):.1f}M') "
   ]
  }
 ],
 "metadata": {
  "interpreter": {
   "hash": "3d61f2654caaec969f4c4df74adf2e9158ac4acf43f2427d6ecf28f37b816665"
  },
  "kernelspec": {
   "display_name": "Python 3.9.12 ('py39')",
   "language": "python",
   "name": "python3"
  },
  "language_info": {
   "codemirror_mode": {
    "name": "ipython",
    "version": 3
   },
   "file_extension": ".py",
   "mimetype": "text/x-python",
   "name": "python",
   "nbconvert_exporter": "python",
   "pygments_lexer": "ipython3",
   "version": "3.9.12"
  },
  "orig_nbformat": 4
 },
 "nbformat": 4,
 "nbformat_minor": 2
}
